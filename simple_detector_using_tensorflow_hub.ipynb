{
  "nbformat": 4,
  "nbformat_minor": 0,
  "metadata": {
    "colab": {
      "name": "simple_detector_using_tensorflow_hub.ipynb",
      "provenance": [],
      "collapsed_sections": [],
      "authorship_tag": "ABX9TyMMi4IXbro5r+OOf/AqHJ27",
      "include_colab_link": true
    },
    "kernelspec": {
      "name": "python3",
      "display_name": "Python 3"
    },
    "accelerator": "GPU"
  },
  "cells": [
    {
      "cell_type": "markdown",
      "metadata": {
        "id": "view-in-github",
        "colab_type": "text"
      },
      "source": [
        "<a href=\"https://colab.research.google.com/github/Suhit97/Detector-Using-Tensorflow-Hub/blob/main/simple_detector_using_tensorflow_hub.ipynb\" target=\"_parent\"><img src=\"https://colab.research.google.com/assets/colab-badge.svg\" alt=\"Open In Colab\"/></a>"
      ]
    },
    {
      "cell_type": "code",
      "metadata": {
        "id": "FfA3pFSnlNH9"
      },
      "source": [
        "import tensorflow as tf\r\n",
        "import tensorflow_hub as hub\r\n",
        "from PIL import Image\r\n",
        "from PIL import ImageOps\r\n",
        "import tempfile\r\n",
        "from six.moves.urllib.request import urlopen\r\n",
        "from six import BytesIO\r\n"
      ],
      "execution_count": null,
      "outputs": []
    },
    {
      "cell_type": "code",
      "metadata": {
        "id": "qx4BdzFp-6kg"
      },
      "source": [
        ""
      ],
      "execution_count": null,
      "outputs": []
    },
    {
      "cell_type": "markdown",
      "metadata": {
        "id": "ehcRcix8bRFc"
      },
      "source": [
        "## Download the model from Tensorflow Hub\r\n",
        "\r\n",
        "you will want to look at the [image object detection subcategory](https://tfhub.dev/s?module-type=image-object-detection). \r\n",
        " You can select a model to see more information about it and copy the URL so you can download it to your workspace."
      ]
    },
    {
      "cell_type": "code",
      "metadata": {
        "id": "4hUvq9pVbJVM"
      },
      "source": [
        "# inception resnet version 2\r\n",
        "module_handle = \"https://tfhub.dev/google/faster_rcnn/openimages_v4/inception_resnet_v2/1\"\r\n",
        "\r\n",
        "# You can choose ssd mobilenet version 2 instead and compare the results\r\n",
        "#module_handle = \"https://tfhub.dev/google/openimages_v4/ssd/mobilenet_v2/1\""
      ],
      "execution_count": null,
      "outputs": []
    },
    {
      "cell_type": "code",
      "metadata": {
        "colab": {
          "base_uri": "https://localhost:8080/"
        },
        "id": "O5zI1P4jboKi",
        "outputId": "f0df850f-0936-4879-fde8-0ee883490322"
      },
      "source": [
        "model = hub.load(module_handle)"
      ],
      "execution_count": null,
      "outputs": [
        {
          "output_type": "stream",
          "text": [
            "INFO:tensorflow:Saver not created because there are no variables in the graph to restore\n"
          ],
          "name": "stdout"
        },
        {
          "output_type": "stream",
          "text": [
            "INFO:tensorflow:Saver not created because there are no variables in the graph to restore\n"
          ],
          "name": "stderr"
        }
      ]
    },
    {
      "cell_type": "code",
      "metadata": {
        "colab": {
          "base_uri": "https://localhost:8080/"
        },
        "id": "PtoM1ZSGb8RO",
        "outputId": "0015fcf1-8664-40f9-e9ab-9ba20a3fd831"
      },
      "source": [
        "# take a look at the available signatures for this particular model\r\n",
        "model.signatures.keys()"
      ],
      "execution_count": null,
      "outputs": [
        {
          "output_type": "execute_result",
          "data": {
            "text/plain": [
              "KeysView(_SignatureMap({'default': <ConcreteFunction pruned(images) at 0x7F7CB02BA8D0>}))"
            ]
          },
          "metadata": {
            "tags": []
          },
          "execution_count": 4
        }
      ]
    },
    {
      "cell_type": "code",
      "metadata": {
        "id": "5CvLNn5idcHp"
      },
      "source": [
        "#    For object detection models, its 'default' signature will accept \r\n",
        "# a batch of image tensors and output a dictionary describing the \r\n",
        "# objects detected, which is what you'll want here.\r\n",
        "\r\n",
        "detector = model.signatures['default']"
      ],
      "execution_count": null,
      "outputs": []
    },
    {
      "cell_type": "code",
      "metadata": {
        "id": "7wWuHpPAd2BG"
      },
      "source": [
        "# This function downloads an image specified by a given \"url\",\r\n",
        "# pre-processes it, and then saves it to disk\r\n",
        "def download_and_resize_image(url, new_width=256, new_height=256):\r\n",
        "    \r\n",
        "    \r\n",
        "  \r\n",
        "    # create a temporary file ending with \".jpg\"\r\n",
        "    _, filename = tempfile.mkstemp(suffix=\".jpg\")\r\n",
        "    \r\n",
        "    # opens the given URL\r\n",
        "    response = urlopen(url)\r\n",
        "    \r\n",
        "    # reads the image fetched from the URL\r\n",
        "    image_data = response.read()\r\n",
        "    \r\n",
        "    # puts the image data in memory buffer\r\n",
        "    image_data = BytesIO(image_data)\r\n",
        "    \r\n",
        "    # opens the image\r\n",
        "    pil_image = Image.open(image_data)\r\n",
        "    \r\n",
        "    # resizes the image. will crop if aspect ratio is different.\r\n",
        "    pil_image = ImageOps.fit(pil_image, (new_width, new_height), Image.ANTIALIAS)\r\n",
        "    \r\n",
        "    # converts to the RGB colorspace\r\n",
        "    pil_image_rgb = pil_image.convert(\"RGB\")\r\n",
        "    \r\n",
        "    # saves the image to the temporary file created earlier\r\n",
        "    pil_image_rgb.save(filename, format=\"JPEG\", quality=90)\r\n",
        "    \r\n",
        "    print(\"Image downloaded to %s.\" % filename)\r\n",
        "    \r\n",
        "    return filename"
      ],
      "execution_count": null,
      "outputs": []
    },
    {
      "cell_type": "code",
      "metadata": {
        "colab": {
          "base_uri": "https://localhost:8080/"
        },
        "id": "Pq0pINaweX6H",
        "outputId": "02dde40f-c743-4df6-85c3-d66936dcf22d"
      },
      "source": [
        "# You can choose a different URL that points to an image of your choice\r\n",
        "image_url = \"https://upload.wikimedia.org/wikipedia/commons/f/fb/20130807_dublin014.JPG\"\r\n",
        "\r\n",
        "# download the image and use the original height and width\r\n",
        "downloaded_image_path = download_and_resize_image(image_url, 3872, 2592)"
      ],
      "execution_count": null,
      "outputs": [
        {
          "output_type": "stream",
          "text": [
            "Image downloaded to /tmp/tmpdsd5e7ye.jpg.\n"
          ],
          "name": "stdout"
        }
      ]
    },
    {
      "cell_type": "code",
      "metadata": {
        "id": "xJm9ObhFfBKA"
      },
      "source": [
        "def load_img(path):\r\n",
        "\r\n",
        "    img = tf.io.read_file(path)\r\n",
        "    img = tf.image.decode_jpeg(img, channels=3) # convert to a tensor\r\n",
        "\r\n",
        "    return img\r\n",
        "\r\n",
        "def run_detector(detector, path):\r\n",
        "\r\n",
        "    img = load_img(path)\r\n",
        "    \r\n",
        "    # add a batch dimension in front of the tensor\r\n",
        "    converted_img  = tf.image.convert_image_dtype(img, tf.float32)[tf.newaxis, ...]\r\n",
        "    \r\n",
        "    # run inference using the model\r\n",
        "    result = detector(converted_img)\r\n",
        "\r\n",
        "    # save the results in a dictionary\r\n",
        "    result = {key:value.numpy() for key,value in result.items()}\r\n",
        "\r\n",
        "    print(\"Found %d objects.\" % len(result[\"detection_scores\"]))\r\n",
        "\r\n",
        "    print(result[\"detection_scores\"])\r\n",
        "    print(result[\"detection_class_entities\"])\r\n",
        "    print(result[\"detection_boxes\"])"
      ],
      "execution_count": null,
      "outputs": []
    },
    {
      "cell_type": "code",
      "metadata": {
        "colab": {
          "base_uri": "https://localhost:8080/"
        },
        "id": "2tTSDt0BllIa",
        "outputId": "1f7721af-1f78-4582-eebc-c5510b6662c1"
      },
      "source": [
        "# runs the object detection model and prints information about the objects found\r\n",
        "run_detector(detector, downloaded_image_path)"
      ],
      "execution_count": null,
      "outputs": [
        {
          "output_type": "stream",
          "text": [
            "Found 100 objects.\n",
            "[0.6532174  0.61050546 0.6015252  0.59255606 0.5917772  0.58154905\n",
            " 0.5505307  0.49575508 0.47424793 0.47322112 0.44066444 0.40511352\n",
            " 0.39803842 0.3940648  0.37148526 0.3615601  0.3615082  0.34689075\n",
            " 0.33362326 0.31252864 0.28877997 0.25758377 0.25748917 0.2519606\n",
            " 0.24782118 0.23412398 0.20431991 0.20324546 0.1798833  0.17964837\n",
            " 0.17374562 0.16431494 0.16031002 0.15895243 0.15620323 0.15468806\n",
            " 0.14754413 0.13622656 0.12740128 0.12555613 0.12102727 0.11813042\n",
            " 0.11387316 0.1122914  0.11129197 0.09718703 0.09137283 0.08976\n",
            " 0.08880252 0.08633614 0.08337441 0.08095141 0.07988787 0.07741444\n",
            " 0.07732119 0.0763102  0.07507841 0.07386033 0.07233331 0.07204077\n",
            " 0.07110188 0.06935585 0.06825582 0.06427857 0.06248578 0.06226391\n",
            " 0.06211119 0.05940086 0.05798771 0.05784462 0.05725606 0.0534669\n",
            " 0.05304342 0.05242853 0.0489259  0.04813047 0.04578466 0.0442417\n",
            " 0.0433756  0.04277815 0.0426263  0.04163285 0.04081782 0.03975986\n",
            " 0.0394601  0.03944279 0.03863994 0.03769071 0.03759613 0.0356672\n",
            " 0.03359373 0.03333244 0.03275882 0.03231574 0.03134294 0.02978724\n",
            " 0.02858368 0.02856123 0.02822309 0.02787894]\n",
            "[b'Person' b'Person' b'Person' b'Person' b'Footwear' b'Person' b'Building'\n",
            " b'Bicycle' b'Window' b'Building' b'Person' b'Wheel' b'Building'\n",
            " b'Building' b'Person' b'Wheel' b'Building' b'Window' b'Window'\n",
            " b'Building' b'Person' b'Van' b'Person' b'Bicycle wheel' b'Person'\n",
            " b'Window' b'Window' b'Bicycle' b'Building' b'Window' b'Window' b'Man'\n",
            " b'Person' b'Person' b'Woman' b'Clothing' b'Bicycle wheel' b'Window'\n",
            " b'Person' b'Window' b'Land vehicle' b'Land vehicle' b'Clothing'\n",
            " b'Bicycle' b'Window' b'House' b'Land vehicle' b'Land vehicle' b'House'\n",
            " b'Man' b'Window' b'Clothing' b'Footwear' b'Person' b'Window' b'Man'\n",
            " b'Man' b'House' b'Person' b'Building' b'Clothing' b'Window' b'Person'\n",
            " b'Jeans' b'Man' b'Furniture' b'Person' b'Person' b'Person'\n",
            " b'Land vehicle' b'Person' b'Window' b'House' b'Woman' b'Window' b'Man'\n",
            " b'Person' b'Man' b'Clothing' b'Bicycle' b'Man' b'Person' b'Window'\n",
            " b'Person' b'Car' b'Man' b'Car' b'Chair' b'House' b'Window' b'Clothing'\n",
            " b'Tire' b'Clothing' b'Window' b'Land vehicle' b'Window' b'Man' b'Window'\n",
            " b'Bus' b'Clothing']\n",
            "[[5.12787819e-01 5.29258847e-01 6.01622522e-01 5.52077651e-01]\n",
            " [5.19631088e-01 6.01512730e-01 6.46177113e-01 6.34626746e-01]\n",
            " [5.05507112e-01 5.00440836e-01 6.01288378e-01 5.23084342e-01]\n",
            " [4.86331582e-01 4.12729561e-01 6.78829789e-01 4.59919751e-01]\n",
            " [8.15191388e-01 9.56122220e-01 8.42702985e-01 9.87146080e-01]\n",
            " [4.95409906e-01 9.23548341e-01 8.35687816e-01 9.99051571e-01]\n",
            " [1.14792632e-02 1.22224605e-02 7.38669872e-01 4.24632818e-01]\n",
            " [5.77677488e-01 3.66453379e-01 7.12771654e-01 4.83375698e-01]\n",
            " [0.00000000e+00 1.19262360e-01 2.23896101e-01 1.83930472e-01]\n",
            " [7.74121135e-02 4.12998140e-01 5.79539895e-01 5.60446203e-01]\n",
            " [5.13818145e-01 7.48031437e-01 5.91993213e-01 7.66611218e-01]\n",
            " [6.32137895e-01 3.59925479e-01 7.03870296e-01 4.11826164e-01]\n",
            " [0.00000000e+00 7.97051966e-01 6.73368514e-01 1.00000000e+00]\n",
            " [1.60233565e-02 6.84869528e-01 5.58761537e-01 8.11168015e-01]\n",
            " [5.00276983e-01 3.76966298e-01 6.33272946e-01 4.14501339e-01]\n",
            " [6.40540242e-01 4.45089370e-01 7.02983558e-01 4.83437687e-01]\n",
            " [0.00000000e+00 2.19054192e-01 6.60401046e-01 4.33263421e-01]\n",
            " [1.93079631e-03 0.00000000e+00 1.39376864e-01 2.62956955e-02]\n",
            " [2.57197069e-03 9.66668665e-01 1.53728694e-01 1.00000000e+00]\n",
            " [5.57123858e-04 1.52055710e-03 7.65210688e-01 2.69977152e-01]\n",
            " [5.04524827e-01 3.61187756e-01 6.34731770e-01 3.85342211e-01]\n",
            " [4.83405888e-01 6.19650841e-01 5.62705696e-01 6.61556125e-01]\n",
            " [4.98067290e-01 3.64576221e-01 6.61239386e-01 4.04972374e-01]\n",
            " [6.31278813e-01 3.60364169e-01 7.04153776e-01 4.11501348e-01]\n",
            " [5.21813869e-01 5.77647567e-01 5.87599933e-01 6.00718856e-01]\n",
            " [2.19569609e-01 3.48744750e-01 3.38372618e-01 3.77075404e-01]\n",
            " [1.24863081e-01 2.50912935e-01 2.79940903e-01 2.81580776e-01]\n",
            " [5.77186048e-01 3.62296671e-01 7.07020819e-01 4.41810757e-01]\n",
            " [2.57474422e-01 5.67561567e-01 5.31102896e-01 6.87727273e-01]\n",
            " [4.20639366e-02 8.74773145e-01 2.52773494e-01 9.13028836e-01]\n",
            " [1.56351015e-01 4.43401158e-01 2.22213224e-01 4.75786090e-01]\n",
            " [5.01968026e-01 9.21486855e-01 8.36406708e-01 1.00000000e+00]\n",
            " [5.23622572e-01 5.70259511e-01 5.84519565e-01 5.91583431e-01]\n",
            " [5.13246477e-01 6.79276526e-01 5.50994456e-01 6.92579985e-01]\n",
            " [5.19120276e-01 5.99985421e-01 6.46378398e-01 6.34036481e-01]\n",
            " [5.24297774e-01 9.24962044e-01 8.10777009e-01 9.97999549e-01]\n",
            " [6.38187289e-01 4.42918181e-01 7.01653838e-01 4.84097779e-01]\n",
            " [3.42190638e-02 3.55574727e-01 1.62255079e-01 3.74921173e-01]\n",
            " [4.88476783e-01 4.53496963e-01 6.21795475e-01 4.79725718e-01]\n",
            " [9.28796129e-04 3.07699054e-01 1.06533378e-01 3.32059622e-01]\n",
            " [4.83008981e-01 6.19908273e-01 5.64775169e-01 6.60696924e-01]\n",
            " [5.82192838e-01 3.64929795e-01 7.13880658e-01 4.84707832e-01]\n",
            " [5.23547709e-01 7.49199331e-01 5.85378051e-01 7.65317559e-01]\n",
            " [6.09156787e-01 4.26705897e-01 7.05165207e-01 4.87089008e-01]\n",
            " [3.51368666e-01 9.74856079e-01 5.53130686e-01 9.98878717e-01]\n",
            " [0.00000000e+00 8.11223269e-01 6.86410844e-01 9.97151375e-01]\n",
            " [5.76297581e-01 3.57461810e-01 7.04812288e-01 4.40279573e-01]\n",
            " [5.64892411e-01 3.63023102e-01 7.08650291e-01 4.16036338e-01]\n",
            " [1.09375510e-02 2.33156178e-02 7.26522982e-01 4.21747714e-01]\n",
            " [4.84686643e-01 4.10685986e-01 6.94686472e-01 4.63092804e-01]\n",
            " [8.09777156e-02 3.84715289e-01 2.07808748e-01 4.11746383e-01]\n",
            " [5.38284421e-01 6.03573740e-01 6.34776115e-01 6.34408653e-01]\n",
            " [6.29844606e-01 6.14971519e-01 6.44933462e-01 6.25384450e-01]\n",
            " [5.02758086e-01 3.82395953e-01 5.96146166e-01 4.12722319e-01]\n",
            " [0.00000000e+00 1.24522932e-02 1.40193507e-01 2.47382112e-02]\n",
            " [5.14441311e-01 7.47791529e-01 5.91985822e-01 7.66827404e-01]\n",
            " [5.06182134e-01 5.00406921e-01 6.00681305e-01 5.23312032e-01]\n",
            " [0.00000000e+00 2.11283535e-01 6.50794148e-01 4.34300780e-01]\n",
            " [4.89451498e-01 4.54391271e-01 5.72339892e-01 4.76470798e-01]\n",
            " [0.00000000e+00 7.06215739e-01 6.16998494e-01 8.66189599e-01]\n",
            " [5.09172916e-01 4.16281164e-01 6.69304490e-01 4.59598780e-01]\n",
            " [4.65172483e-03 8.03094208e-01 1.59853578e-01 8.40397060e-01]\n",
            " [5.26151001e-01 5.68352938e-01 5.79440355e-01 5.82810223e-01]\n",
            " [6.71924770e-01 9.40277696e-01 8.21275949e-01 9.89250779e-01]\n",
            " [5.02770245e-01 3.73883069e-01 6.46991551e-01 4.12972331e-01]\n",
            " [5.74243903e-01 2.67400861e-01 6.57769084e-01 3.20318550e-01]\n",
            " [4.86056775e-01 4.44508791e-01 6.24788880e-01 4.73503351e-01]\n",
            " [5.17248988e-01 7.56969213e-01 5.88517189e-01 7.71465480e-01]\n",
            " [5.23374975e-01 5.57850122e-01 5.79139531e-01 5.73541582e-01]\n",
            " [6.12461030e-01 4.27332461e-01 7.06080258e-01 4.88251865e-01]\n",
            " [5.24124086e-01 5.61553180e-01 5.78385353e-01 5.80475152e-01]\n",
            " [0.00000000e+00 2.44231761e-01 6.07754774e-02 2.93613434e-01]\n",
            " [1.48920957e-02 2.14737654e-03 7.45442033e-01 2.59790719e-01]\n",
            " [4.93236095e-01 9.23950195e-01 8.37110817e-01 9.97755051e-01]\n",
            " [8.37685261e-03 2.42165744e-01 4.97285277e-02 2.83162564e-01]\n",
            " [5.05334914e-01 3.60175282e-01 6.43561006e-01 3.91461790e-01]\n",
            " [5.13099134e-01 5.23794115e-01 6.00504339e-01 5.42967975e-01]\n",
            " [5.20421326e-01 6.00978673e-01 6.46124125e-01 6.34366393e-01]\n",
            " [5.18224955e-01 5.03395557e-01 5.97548664e-01 5.22683859e-01]\n",
            " [5.94199121e-01 3.61327976e-01 7.05465913e-01 4.15853351e-01]\n",
            " [5.13256431e-01 6.79317057e-01 5.50533950e-01 6.92482233e-01]\n",
            " [5.22302687e-01 5.36195457e-01 5.97564995e-01 5.53163230e-01]\n",
            " [4.29876357e-01 8.28702271e-01 5.89928269e-01 8.64323139e-01]\n",
            " [5.04884601e-01 3.89426976e-01 6.15080714e-01 4.19936091e-01]\n",
            " [5.26588559e-01 6.27176881e-01 5.63299775e-01 6.53728902e-01]\n",
            " [5.01304924e-01 3.64189029e-01 6.59964740e-01 4.03793275e-01]\n",
            " [5.15171230e-01 6.24104798e-01 5.63795388e-01 6.58002079e-01]\n",
            " [5.73137939e-01 2.66902655e-01 6.66162014e-01 3.18640232e-01]\n",
            " [8.34234655e-02 4.07414347e-01 5.84092498e-01 5.58522940e-01]\n",
            " [2.88196921e-01 4.78001602e-04 4.14364636e-01 3.65995690e-02]\n",
            " [4.97272819e-01 4.55296665e-01 5.83817184e-01 4.77936029e-01]\n",
            " [6.27168000e-01 3.61024052e-01 7.05996811e-01 4.09780174e-01]\n",
            " [5.15861094e-01 3.80056977e-01 5.96893787e-01 4.11758274e-01]\n",
            " [1.18098166e-02 3.08121800e-01 9.72859487e-02 3.25038970e-01]\n",
            " [5.12501776e-01 6.23653412e-01 5.62422156e-01 6.57641828e-01]\n",
            " [4.01003093e-01 8.85088921e-01 5.81281543e-01 9.39214408e-01]\n",
            " [5.13853133e-01 5.29484570e-01 6.02009714e-01 5.52362800e-01]\n",
            " [0.00000000e+00 1.00606065e-02 1.36156842e-01 3.16007212e-02]\n",
            " [4.80426341e-01 6.20422781e-01 5.65284550e-01 6.60150290e-01]\n",
            " [5.19355476e-01 3.61840397e-01 6.24995410e-01 3.84919673e-01]]\n"
          ],
          "name": "stdout"
        }
      ]
    },
    {
      "cell_type": "code",
      "metadata": {
        "id": "tSQ17-IQlsUO"
      },
      "source": [
        ""
      ],
      "execution_count": null,
      "outputs": []
    }
  ]
}